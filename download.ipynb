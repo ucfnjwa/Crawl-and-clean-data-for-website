{
 "cells": [
  {
   "cell_type": "code",
   "execution_count": 4,
   "metadata": {},
   "outputs": [],
   "source": [
    "import pandas\n",
    "import requests\n",
    "import matplotlib"
   ]
  },
  {
   "cell_type": "code",
   "execution_count": 5,
   "metadata": {},
   "outputs": [
    {
     "data": {
      "text/plain": [
       "200"
      ]
     },
     "execution_count": 5,
     "metadata": {},
     "output_type": "execute_result"
    }
   ],
   "source": [
    "end=\"http://api.map.baidu.com/geosearch/v3/nearby?ak=e0Wg74DclFIw7XGVBjfHwiYT6RYR4jO4&geotable_id=my&location=116.395884,39.932154&radius=1000&tags=酒店&sortby=distance:1\"\n",
    "lat=requests.get(end)\n",
    "lat.status_code"
   ]
  },
  {
   "cell_type": "code",
   "execution_count": 6,
   "metadata": {},
   "outputs": [
    {
     "data": {
      "text/plain": [
       "{'message': 'Parameter invalid, please check geotable_id parameter',\n",
       " 'status': 2}"
      ]
     },
     "execution_count": 6,
     "metadata": {},
     "output_type": "execute_result"
    }
   ],
   "source": [
    "lat.json()"
   ]
  },
  {
   "cell_type": "code",
   "execution_count": 36,
   "metadata": {},
   "outputs": [
    {
     "name": "stdout",
     "output_type": "stream",
     "text": [
      "{'status': 2, 'message': 'ak:参数必需'}\n"
     ]
    }
   ],
   "source": [
    "# coding:utf-8\n",
    "#尝试创建geotableid 直接在主界面创建了     geotalble id= 187408\n",
    "\n",
    "payload = {\n",
    "    'name': \"公园等\",\n",
    "    \"is_published\":1,\n",
    "    \"geotype\":1,\n",
    "    \"ak\":\"e0Wg74DclFIw7XGVBjfHwiYT6RYR4jO4\"\n",
    "\n",
    "}\n",
    "response = requests.post(\"http://api.map.baidu.com/geodata/v3/geotable/create\", params=payload)\n",
    "\n",
    "content_json = response.json()\n",
    "\n",
    "print(content_json)\n"
   ]
  },
  {
   "cell_type": "code",
   "execution_count": 53,
   "metadata": {
    "collapsed": true
   },
   "outputs": [],
   "source": [
    "a=requests.get(\"http://api.map.baidu.com/geosearch/v3/nearby?ak=e0Wg74DclFIw7XGVBjfHwiYT6RYR4jO4&geotable_id=187408&location=116.395884,39.932154&radius=100000&tags=酒店\")"
   ]
  },
  {
   "cell_type": "code",
   "execution_count": 54,
   "metadata": {},
   "outputs": [
    {
     "data": {
      "text/plain": [
       "200"
      ]
     },
     "execution_count": 54,
     "metadata": {},
     "output_type": "execute_result"
    }
   ],
   "source": [
    "a.status_code"
   ]
  },
  {
   "cell_type": "code",
   "execution_count": 55,
   "metadata": {},
   "outputs": [
    {
     "data": {
      "text/plain": [
       "{'contents': [], 'size': 0, 'status': 0, 'total': 0}"
      ]
     },
     "execution_count": 55,
     "metadata": {},
     "output_type": "execute_result"
    }
   ],
   "source": [
    "a.json()"
   ]
  },
  {
   "cell_type": "code",
   "execution_count": null,
   "metadata": {
    "collapsed": true
   },
   "outputs": [],
   "source": []
  },
  {
   "cell_type": "code",
   "execution_count": null,
   "metadata": {
    "collapsed": true
   },
   "outputs": [],
   "source": []
  }
 ],
 "metadata": {
  "kernelspec": {
   "display_name": "Python 3",
   "language": "python",
   "name": "python3"
  },
  "language_info": {
   "codemirror_mode": {
    "name": "ipython",
    "version": 3
   },
   "file_extension": ".py",
   "mimetype": "text/x-python",
   "name": "python",
   "nbconvert_exporter": "python",
   "pygments_lexer": "ipython3",
   "version": "3.6.1"
  }
 },
 "nbformat": 4,
 "nbformat_minor": 2
}
